{
 "cells": [
  {
   "cell_type": "markdown",
   "metadata": {
    "dc": {
     "key": "4"
    },
    "deletable": false,
    "editable": false,
    "run_control": {
     "frozen": true
    },
    "tags": [
     "context"
    ]
   },
   "source": [
    "## 1. Welcome to the world of data science\n",
    "<p>Throughout the world of data science, there are many languages and tools that can be used to complete a given task. While you are often able to use whichever tool you prefer, it is often important for analysts to work with similar platforms so that they can share their code with one another. Learning what professionals in the data science industry use while at work can help you gain a better understanding of things that you may be asked to do in the future. </p>\n",
    "<p>In this project, we are going to find out what tools and languages professionals use in their day-to-day work. Our data comes from the <a href=\"https://www.kaggle.com/kaggle/kaggle-survey-2017?utm_medium=partner&utm_source=datacamp.com&utm_campaign=ml+survey+case+study\">Kaggle Data Science Survey</a> which includes responses from over 10,000 people that write code to analyze data in their daily work. </p>"
   ]
  },
  {
   "cell_type": "code",
   "execution_count": null,
   "metadata": {
    "dc": {
     "key": "4"
    },
    "tags": [
     "sample_code"
    ]
   },
   "outputs": [],
   "source": [
    "# Load necessary packages\n",
    "library(tidyverse)\n",
    "\n",
    "# Load the data\n",
    "responses <- read_csv(\"datasets/kagglesurvey.csv\")\n",
    "\n",
    "# Print the first 10 rows\n",
    "head(responses, n=5)"
   ]
  },
  {
   "cell_type": "markdown",
   "metadata": {
    "dc": {
     "key": "12"
    },
    "deletable": false,
    "editable": false,
    "run_control": {
     "frozen": true
    },
    "tags": [
     "context"
    ]
   },
   "source": [
    "## 2. Using multiple tools\n",
    "<p>Now that we've loaded in the survey results, we want to focus on the tools and languages that the survey respondents use at work.</p>"
   ]
  },
  {
   "cell_type": "code",
   "execution_count": null,
   "metadata": {
    "dc": {
     "key": "12"
    },
    "tags": [
     "sample_code"
    ]
   },
   "outputs": [],
   "source": [
    "# Print the first respondent's tools and languages\n",
    "responses[1,2]\n",
    "\n",
    "# Create a new data frame called tools\n",
    "tools <- responses\n",
    "\n",
    "# Add a new column, and unnest the new column\n",
    "tools <- tools  %>% \n",
    "    mutate(work_tools = strsplit(tools$WorkToolsSelect,split = \",\"))  %>% \n",
    "    unnest(work_tools)\n",
    "\n",
    "# View the first 6 rows of tools\n",
    "head(tools)"
   ]
  },
  {
   "cell_type": "markdown",
   "metadata": {
    "dc": {
     "key": "19"
    },
    "deletable": false,
    "editable": false,
    "run_control": {
     "frozen": true
    },
    "tags": [
     "context"
    ]
   },
   "source": [
    "## 3. Counting users of each tool\n",
    "<p>Now that we've split apart all of the tools used by each respondent, we can figure out which tools are the most popular.</p>"
   ]
  },
  {
   "cell_type": "code",
   "execution_count": 0,
   "metadata": {
    "collapsed": true,
    "dc": {
     "key": "19"
    },
    "tags": [
     "sample_code"
    ]
   },
   "outputs": [],
   "source": [
    "# Create a new data frame\n",
    "tool_count <- tools\n",
    "\n",
    "# Group the data by work_tools, summarise the counts, and arrange in descending order\n",
    "tool_count <- tool_count  %>% \n",
    "    group_by(work_tools)  %>% \n",
    "    summarize(count = n() ) %>%\n",
    "    arrange(desc(count))\n",
    "    \n",
    "# Print the first 6 results\n",
    "head(tool_count)"
   ]
  },
  {
   "cell_type": "markdown",
   "metadata": {
    "dc": {
     "key": "26"
    },
    "deletable": false,
    "editable": false,
    "run_control": {
     "frozen": true
    },
    "tags": [
     "context"
    ]
   },
   "source": [
    "## 4. Plotting the most popular tools\n",
    "<p>Let's see how your favorite tools stack up against the rest.</p>"
   ]
  },
  {
   "cell_type": "code",
   "execution_count": 0,
   "metadata": {
    "collapsed": true,
    "dc": {
     "key": "26"
    },
    "tags": [
     "sample_code"
    ]
   },
   "outputs": [],
   "source": [
    "# Create a bar chart of the work_tools column, most counts on the far right\n",
    "ggplot(tool_count, aes(x= reorder(work_tools,count),count)) + \n",
    "    geom_bar(stat = \"identity\")+\n",
    "    theme(axis.text.x  = \n",
    "    element_text(angle=90, \n",
    "                 vjust=0.5,\n",
    "                 hjust= 1))"
   ]
  },
  {
   "cell_type": "markdown",
   "metadata": {
    "dc": {
     "key": "33"
    },
    "deletable": false,
    "editable": false,
    "run_control": {
     "frozen": true
    },
    "tags": [
     "context"
    ]
   },
   "source": [
    "## 5. The R vs Python debate\n",
    "<p>Within the field of data science, there is a lot of debate among professionals about whether R or Python should reign supreme. You can see from our last figure that R and Python are the two most commonly used languages, but it's possible that many respondents use both R and Python. Let's take a look at how many people use R, Python, and both tools.</p>"
   ]
  },
  {
   "cell_type": "code",
   "execution_count": 0,
   "metadata": {
    "collapsed": true,
    "dc": {
     "key": "33"
    },
    "tags": [
     "sample_code"
    ]
   },
   "outputs": [],
   "source": [
    "# Create a new data frame called debate_tools\n",
    "debate_tools <- responses\n",
    "\n",
    "# Creat a new column called language preference\n",
    "debate_tools <- debate_tools  %>% \n",
    "   mutate(language_preference = case_when(\n",
    "       grepl(\"R\", WorkToolsSelect) & ! grepl(\"Python\", WorkToolsSelect) ~ \"R\",\n",
    "       grepl(\"Python\", WorkToolsSelect) & ! grepl(\"R\", WorkToolsSelect) ~ \"Python\",\n",
    "       grepl(\"R\", WorkToolsSelect) & grepl(\"Python\", WorkToolsSelect) ~ \"both\",\n",
    "       ! grepl(\"R\", WorkToolsSelect) & ! grepl(\"Python\", WorkToolsSelect) ~ \"neither\",\n",
    "       \n",
    "   ))\n",
    "\n",
    "# Print the first 6 rows\n",
    "head(debate_tools)"
   ]
  },
  {
   "cell_type": "markdown",
   "metadata": {
    "dc": {
     "key": "40"
    },
    "deletable": false,
    "editable": false,
    "run_control": {
     "frozen": true
    },
    "tags": [
     "context"
    ]
   },
   "source": [
    "## 6. Plotting R vs Python users\n",
    "<p>Now we just need to take a closer look at how many respondents use R, Python, and both!</p>"
   ]
  },
  {
   "cell_type": "code",
   "execution_count": 0,
   "metadata": {
    "collapsed": true,
    "dc": {
     "key": "40"
    },
    "tags": [
     "sample_code"
    ]
   },
   "outputs": [],
   "source": [
    "# Create a new data frame\n",
    "debate_plot <- debate_tools\n",
    "\n",
    "# Group by language preference, calculate number of responses, and remove \"neither\"\n",
    "debate_plot <- debate_plot  %>% \n",
    "   group_by(language_preference)  %>% \n",
    "   summarize(count = n())  %>% \n",
    "    filter(language_preference != \"neither\")\n",
    "\n",
    "# Create a bar chart\n",
    "ggplot(debate_plot, aes(language_preference,count)) + \n",
    "    geom_bar(stat = \"identity\")"
   ]
  },
  {
   "cell_type": "markdown",
   "metadata": {
    "dc": {
     "key": "47"
    },
    "deletable": false,
    "editable": false,
    "run_control": {
     "frozen": true
    },
    "tags": [
     "context"
    ]
   },
   "source": [
    "## 7. Language recommendations\n",
    "<p>It looks like the largest group of professionals program in both Python and R. But what happens when they are asked which language they recommend to new learners? Do R lovers always recommend R?</p>"
   ]
  },
  {
   "cell_type": "code",
   "execution_count": 0,
   "metadata": {
    "collapsed": true,
    "dc": {
     "key": "47"
    },
    "tags": [
     "sample_code"
    ]
   },
   "outputs": [],
   "source": [
    "# Create a new data frame\n",
    "recommendations <- debate_tools\n",
    "\n",
    "# Group by, summarise, filter, arrange, mutate, and filter\n",
    "recommendations <- recommendations  %>% \n",
    "    group_by(language_preference,LanguageRecommendationSelect)  %>% \n",
    "    summarize( count = n()) %>%\n",
    "# Removing empty responses and include the top recommendations\n",
    "    filter(LanguageRecommendationSelect !=\"\\t\")  %>% \n",
    "    arrange (desc(LanguageRecommendationSelect))  %>% \n",
    "    mutate(recommended_lang = row_number()) %>% \n",
    "    filter(recommended_lang <= 4)"
   ]
  },
  {
   "cell_type": "markdown",
   "metadata": {
    "dc": {
     "key": "54"
    },
    "deletable": false,
    "editable": false,
    "run_control": {
     "frozen": true
    },
    "tags": [
     "context"
    ]
   },
   "source": [
    "## 8. The most recommended language by the language used\n",
    "<p>Just one thing left. Let's graphically determine which languages are most recommended based on the language that a person uses.</p>"
   ]
  },
  {
   "cell_type": "code",
   "execution_count": 0,
   "metadata": {
    "collapsed": true,
    "dc": {
     "key": "54"
    },
    "tags": [
     "sample_code"
    ]
   },
   "outputs": [],
   "source": [
    "# Create a faceted bar plot\n",
    "ggplot(recommendations, aes(LanguageRecommendationSelect,recommended_lang)) +\n",
    "    geom_bar(stat=\"identity\") +\n",
    "facet_wrap(~language_preference)"
   ]
  },
  {
   "cell_type": "markdown",
   "metadata": {
    "dc": {
     "key": "61"
    },
    "deletable": false,
    "editable": false,
    "run_control": {
     "frozen": true
    },
    "tags": [
     "context"
    ]
   },
   "source": [
    "## 9. The moral of the story\n",
    "<p>So we've made it to the end. We've found that Python is the most popular language used among Kaggle data scientists, but R users aren't far behind. And while Python users may highly recommend that new learners learn Python, would R users find the following statement <code>TRUE</code> or <code>FALSE</code>? </p>"
   ]
  },
  {
   "cell_type": "code",
   "execution_count": 0,
   "metadata": {
    "collapsed": true,
    "dc": {
     "key": "61"
    },
    "tags": [
     "sample_code"
    ]
   },
   "outputs": [],
   "source": [
    "# Would R users find this statement TRUE or FALSE?\n",
    "R_is_number_one = TRUE"
   ]
  }
 ],
 "metadata": {
  "anaconda-cloud": {},
  "kernelspec": {
   "display_name": "R",
   "language": "R",
   "name": "ir"
  },
  "language_info": {
   "codemirror_mode": "r",
   "file_extension": ".r",
   "mimetype": "text/x-r-source",
   "name": "R",
   "pygments_lexer": "r",
   "version": "3.4.1"
  }
 },
 "nbformat": 4,
 "nbformat_minor": 2
}
